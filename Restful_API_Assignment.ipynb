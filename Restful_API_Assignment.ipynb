{
  "nbformat": 4,
  "nbformat_minor": 0,
  "metadata": {
    "colab": {
      "provenance": []
    },
    "kernelspec": {
      "name": "python3",
      "display_name": "Python 3"
    },
    "language_info": {
      "name": "python"
    }
  },
  "cells": [
    {
      "cell_type": "markdown",
      "source": [
        "\n",
        "1. What is a RESTful API?\n",
        "Ans: A RESTful API (Representational State Transfer) is a web service that uses HTTP methods (GET, POST, PUT, DELETE) to interact with resources (data) identified by URLs. It follows REST principles such as stateless communication and resource-based operations.\n",
        "\n",
        "2. Explain the concept of API specification.\n",
        "Ans: An API specification defines how an API behaves: available endpoints, request/response formats, parameters, authentication methods, etc. Tools like OpenAPI (Swagger) help standardize and document these specifications.\n",
        "\n",
        "3. What is Flask, and why is it popular for building APIs?\n",
        "Ans: Flask is a lightweight Python web framework used for building web applications and APIs. It’s popular due to its simplicity, flexibility, minimal setup, and large ecosystem of extensions.\n",
        "\n",
        "4. What is routing in Flask?\n",
        "Ans: Routing in Flask is the mechanism of mapping a URL to a specific function (view). It determines what code runs when a user accesses a particular endpoint.\n",
        "\n",
        "5. How do you create a simple Flask application?\n",
        "Ans:\n",
        "from flask import Flask\n",
        "app = Flask(__name__)\n",
        "@app.route('/')\n",
        "def home():\n",
        "    return \"Hello, Flask!\"\n",
        "\n",
        "if __name__ == '__main__':\n",
        "    app.run()\n",
        "\n",
        "6. What are HTTP methods used in RESTful APIs?\n",
        "Ans:\n",
        "GET: Retrieve data\n",
        "POST: Create new data\n",
        "PUT: Update existing data\n",
        "DELETE: Remove data\n",
        "PATCH: Partial update\n",
        "OPTIONS: Describe communication options\n",
        "\n",
        "7. What is the purpose of the @app.route() decorator in Flask?\n",
        "Ans: It defines a URL route and binds it to a view function. It tells Flask which URL should trigger which function.\n",
        "\n",
        "8. What is the difference between GET and POST HTTP methods?\n",
        "Ans:\n",
        "GET: Requests data (sent via URL, no body)\n",
        "POST: Sends data to the server (usually via request body)\n",
        "\n",
        "9. How do you handle errors in Flask APIs?\n",
        "Ans:\n",
        "Using Flask’s error handlers:\n",
        "@app.errorhandler(404)\n",
        "def not_found(e):\n",
        "    return {\"error\": \"Not found\"}, 404\n",
        "\n",
        "10. How do you connect Flask to a SQL database?\n",
        "Ans:\n",
        "Using extensions like Flask-SQLAlchemy:\n",
        "from flask_sqlalchemy import SQLAlchemy\n",
        "app.config['SQLALCHEMY_DATABASE_URI'] = 'sqlite:///data.db'\n",
        "db = SQLAlchemy(app)\n",
        "\n",
        "11. What is the role of Flask-SQLAlchemy?\n",
        "Ans: It integrates SQLAlchemy ORM with Flask, allowing easy interaction with relational databases using Python classes.\n",
        "\n",
        "12. What are Flask blueprints, and how are they useful?\n",
        "Ans: Blueprints help organize code into modular components (e.g., user routes, admin routes). Useful for large applications.\n",
        "\n",
        "13. What is the purpose of Flask's request object?\n",
        "Ans: It gives access to incoming request data (e.g., form data, JSON body, headers, query parameters).\n",
        "\n",
        "14. How do you create a RESTful API endpoint using Flask?\n",
        "Ans:\n",
        "@app.route('/api/items/<int:id>', methods=['GET'])\n",
        "def get_item(id):\n",
        "    return {\"id\": id}\n",
        "\n",
        "15. What is the purpose of Flask’s jsonify() function?\n",
        "Ans: It converts Python dictionaries/lists to JSON responses with proper headers.\n",
        "\n",
        "16. Explain Flask’s url_for() function.\n",
        "Ans: It generates URLs for functions dynamically, helping avoid hardcoding routes:\n",
        "url_for('home')\n",
        "\n",
        "17. How does Flask handle static files (CSS, JavaScript, etc.)?\n",
        "Ans: Flask serves them from the /static/ directory by default:\n",
        "<link rel=\"stylesheet\" href=\"{{ url_for('static', filename='style.css') }}\">\n",
        "\n",
        "18. What is an API specification, and how does it help in building a Flask API?\n",
        "Ans: It acts as a contract between frontend/backend developers and helps auto-generate documentation and client SDKs.\n",
        "\n",
        "19. What are HTTP status codes, and why are they important in a Flask API?\n",
        "Ans: They indicate the result of an HTTP request (e.g., 200 OK, 404 Not Found, 500 Server Error). They help clients understand responses.\n",
        "\n",
        "20. How do you handle POST requests in Flask?\n",
        "Ans:\n",
        "@app.route('/submit', methods=['POST'])\n",
        "def submit():\n",
        "    data = request.json\n",
        "    return {\"received\": data}, 201\n",
        "21. How would you secure a Flask API?\n",
        "Ans:\n",
        "Use HTTPS\n",
        "Validate input\n",
        "Use authentication (JWT, OAuth)\n",
        "Rate limiting\n",
        "Use CSRF protection for forms\n",
        "\n",
        "22. What is the significance of the Flask-RESTful extension?\n",
        "Ans: It simplifies the creation of REST APIs using class-based views and automatic request parsing.\n",
        "\n",
        "23. What is the role of Flask’s session object?\n",
        "Ans: It stores user-specific data between requests, typically used for login sessions. It’s stored client-side in a secure cookie.\n",
        "\n"
      ],
      "metadata": {
        "id": "57eBf5ZPDmcY"
      }
    },
    {
      "cell_type": "markdown",
      "source": [
        "PRACTICAL QUESTIONS"
      ],
      "metadata": {
        "id": "Xw29-NzLFpnv"
      }
    },
    {
      "cell_type": "code",
      "execution_count": null,
      "metadata": {
        "colab": {
          "base_uri": "https://localhost:8080/"
        },
        "id": "62iwOEjPDWg4",
        "outputId": "5f41adf1-ceff-438a-ef0f-823e0e563a93"
      },
      "outputs": [
        {
          "output_type": "stream",
          "name": "stdout",
          "text": [
            " * Serving Flask app '__main__'\n",
            " * Debug mode: on\n"
          ]
        },
        {
          "output_type": "stream",
          "name": "stderr",
          "text": [
            "INFO:werkzeug:\u001b[31m\u001b[1mWARNING: This is a development server. Do not use it in a production deployment. Use a production WSGI server instead.\u001b[0m\n",
            " * Running on http://127.0.0.1:5000\n",
            "INFO:werkzeug:\u001b[33mPress CTRL+C to quit\u001b[0m\n",
            "INFO:werkzeug: * Restarting with stat\n"
          ]
        }
      ],
      "source": [
        "#How do you create a basic Flask application\n",
        "from flask import Flask\n",
        "app = Flask(__name__)\n",
        "@app.route('/')\n",
        "def home():\n",
        "    return \"Hello, Flask!\"\n",
        "if __name__ == '__main__':\n",
        "    app.run(debug=True)"
      ]
    },
    {
      "cell_type": "code",
      "source": [
        "# How do you serve static files like images or CSS in Flask\n",
        "from flask import Flask, send_from_directory\n",
        "app = Flask(__name__)\n",
        "@app.route('/static/<path:filename>')\n",
        "def serve_static(filename):\n",
        "    return send_from_directory('static', filename)\n"
      ],
      "metadata": {
        "id": "Qz6REzIeF-IN"
      },
      "execution_count": 2,
      "outputs": []
    },
    {
      "cell_type": "code",
      "source": [
        "#How do you define different routes with different HTTP methods in Flask?\n",
        "from flask import Flask, request\n",
        "app = Flask(__name__)\n",
        "@app.route('/get', methods=['GET'])\n",
        "def get_data():\n",
        "    return {\"message\": \"This is a GET request\"}"
      ],
      "metadata": {
        "id": "mvvV5M4DGuPt"
      },
      "execution_count": 3,
      "outputs": []
    },
    {
      "cell_type": "code",
      "source": [
        "#How do you render HTML templates in Flask?\n",
        "from flask import Flask, render_template\n",
        "app = Flask(__name__)\n",
        "@app.route('/template')\n",
        "def template():\n",
        "    return render_template('template.html', name='John')"
      ],
      "metadata": {
        "id": "CjpoSAYgGuMW"
      },
      "execution_count": 4,
      "outputs": []
    },
    {
      "cell_type": "code",
      "source": [
        "#How can you generate URLs for routes in Flask using url_for?\n",
        "from flask import Flask, url_for\n",
        "app = Flask(__name__)\n",
        "@app.route('/')\n",
        "def home():\n",
        "    return \"Home page\"\n",
        "@app.route('/about')\n",
        "def about():\n",
        "    return \"About page\""
      ],
      "metadata": {
        "id": "unM2Y7YvGuJY"
      },
      "execution_count": 5,
      "outputs": []
    },
    {
      "cell_type": "code",
      "source": [
        "#How do you handle forms in Flask?\n",
        "from flask import Flask, request\n",
        "app = Flask(__name__)\n",
        "@app.route('/submit', methods=['POST'])\n",
        "def submit():\n",
        "    data = request.form\n",
        "    return {\"received\": data}, 201"
      ],
      "metadata": {
        "id": "hehPfGWnGt-7"
      },
      "execution_count": 6,
      "outputs": []
    },
    {
      "cell_type": "code",
      "source": [
        "# How can you validate form data in Flask?\n",
        "if not request.form['email']:\n",
        "    return \"Email required\", 400\n",
        "\n"
      ],
      "metadata": {
        "colab": {
          "base_uri": "https://localhost:8080/",
          "height": 106
        },
        "id": "tKoP7UbSGt7a",
        "outputId": "efac3984-5752-43d0-f298-d7fda754ea0d"
      },
      "execution_count": 7,
      "outputs": [
        {
          "output_type": "error",
          "ename": "SyntaxError",
          "evalue": "'return' outside function (ipython-input-7-981937754.py, line 3)",
          "traceback": [
            "\u001b[0;36m  File \u001b[0;32m\"/tmp/ipython-input-7-981937754.py\"\u001b[0;36m, line \u001b[0;32m3\u001b[0m\n\u001b[0;31m    return \"Email required\", 400\u001b[0m\n\u001b[0m    ^\u001b[0m\n\u001b[0;31mSyntaxError\u001b[0m\u001b[0;31m:\u001b[0m 'return' outside function\n"
          ]
        }
      ]
    },
    {
      "cell_type": "code",
      "source": [
        "#How do you manage sessions in Flask?\n",
        "from flask import Flask, session\n",
        "app = Flask(__name__)\n",
        "app.secret_key = 'your_secret_key'\n",
        "@app.route('/login', methods=['POST'])\n",
        "def login():\n",
        "    session['user'] = request.form['username']"
      ],
      "metadata": {
        "id": "HiysWVdzGt4_"
      },
      "execution_count": null,
      "outputs": []
    },
    {
      "cell_type": "code",
      "source": [
        "#How do you redirect to a different route in Flask?\n",
        "from flask import Flask, redirect, url_for\n",
        "app = Flask(__name__)\n",
        "@app.route('/login')\n",
        "def login():\n",
        "    return redirect(url_for('home'))"
      ],
      "metadata": {
        "id": "FHlLgeQrHtYX"
      },
      "execution_count": null,
      "outputs": []
    },
    {
      "cell_type": "code",
      "source": [
        "# How do you handle errors in Flask (e.g., 404)?\n",
        "from flask import Flask\n",
        "app = Flask(__name__)\n",
        "@app.errorhandler(404)\n",
        "def not_found(e):\n",
        "    return {\"error\": \"Not found\"}, 404"
      ],
      "metadata": {
        "id": "HPu_vvZ1HsE7"
      },
      "execution_count": null,
      "outputs": []
    },
    {
      "cell_type": "code",
      "source": [
        "# How do you structure a Flask app using Blueprints?\n",
        "from flask import Flask\n",
        "from blueprints.user import user_bp\n",
        "app = Flask(__name__)\n",
        "app.register_blueprint(user_bp, url_prefix='/users')"
      ],
      "metadata": {
        "id": "gyiIOf7AHsBc"
      },
      "execution_count": null,
      "outputs": []
    },
    {
      "cell_type": "code",
      "source": [
        "# How do you define a custom Jinja filter in Flask?\n",
        "from flask import Flask\n",
        "from jinja2 import Environment, select_autoescape\n",
        "app = Flask(__name__)\n",
        "env = Environment(autoescape=select_autoescape())\n",
        "@app.template_filter('custom_filter')\n",
        "def custom_filter(value):\n",
        "    return value"
      ],
      "metadata": {
        "id": "jt6NS1j9Hr9Q"
      },
      "execution_count": null,
      "outputs": []
    },
    {
      "cell_type": "code",
      "source": [
        "# How can you redirect with query parameters in Flask?\n",
        "from flask import Flask, redirect, url_for\n",
        "app = Flask(__name__)\n",
        "@app.route('/redirect')\n",
        "def redirect_with_query():\n",
        "    return redirect(url_for('home', name='John'))"
      ],
      "metadata": {
        "id": "6vNsUMBIHr2Y"
      },
      "execution_count": null,
      "outputs": []
    },
    {
      "cell_type": "code",
      "source": [
        "#How do you return JSON responses in Flask?\n",
        "from flask import Flask, jsonify\n",
        "app = Flask(__name__)\n",
        "@app.route('/json')\n",
        "def json_response():\n",
        "    data = {\"message\": \"Hello, JSON!\"}\n",
        "    return jsonify(data)"
      ],
      "metadata": {
        "id": "HobPP4Z5HrqN"
      },
      "execution_count": null,
      "outputs": []
    },
    {
      "cell_type": "code",
      "source": [
        "# How do you capture URL parameters in Flask?\n",
        "from flask import Flask, request\n",
        "app = Flask(__name__)\n",
        "@app.route('/user/<username>')\n",
        "def user_profile(username):\n",
        "    return f\"Hello, {username}!\""
      ],
      "metadata": {
        "id": "RHcl_0-_IQZY"
      },
      "execution_count": null,
      "outputs": []
    },
    {
      "cell_type": "code",
      "source": [],
      "metadata": {
        "id": "OrmxaE1FIUti"
      },
      "execution_count": null,
      "outputs": []
    }
  ]
}